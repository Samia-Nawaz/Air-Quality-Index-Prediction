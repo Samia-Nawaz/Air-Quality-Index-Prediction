{
 "cells": [
  {
   "cell_type": "code",
   "execution_count": null,
   "id": "146cbf7b",
   "metadata": {},
   "outputs": [],
   "source": [
    "import torch\n",
    "import torch.nn as nn\n",
    "\n",
    "class KalmanAttention(nn.Module):\n",
    "    def __init__(self, hidden_dim):\n",
    "        super(KalmanAttention, self).__init__()\n",
    "        self.Watt = nn.Linear(hidden_dim, hidden_dim)\n",
    "        self.Uatt = nn.Linear(hidden_dim, hidden_dim)\n",
    "        self.vt = nn.Linear(hidden_dim, 1)\n",
    "\n",
    "    def forward(self, hidden_states):\n",
    "        batch_size, seq_len, hidden_dim = hidden_states.size()\n",
    "        ct_prev = torch.zeros(batch_size, hidden_dim).to(hidden_states.device)\n",
    "        att_scores = []\n",
    "\n",
    "        for t in range(seq_len):\n",
    "            ht = hidden_states[:, t, :]\n",
    "            score = torch.tanh(self.Watt(ct_prev) + self.Uatt(ht))\n",
    "            score = self.vt(score).squeeze(-1)\n",
    "            att_scores.append(score)\n",
    "\n",
    "        att_weights = torch.stack(att_scores, dim=1)\n",
    "        att_weights = torch.softmax(att_weights, dim=1)\n",
    "        context_vector = torch.bmm(att_weights.unsqueeze(1), hidden_states).squeeze(1)\n",
    "\n",
    "        return context_vector, att_weights\n"
   ]
  }
 ],
 "metadata": {
  "kernelspec": {
   "display_name": "Python 3 (ipykernel)",
   "language": "python",
   "name": "python3"
  },
  "language_info": {
   "codemirror_mode": {
    "name": "ipython",
    "version": 3
   },
   "file_extension": ".py",
   "mimetype": "text/x-python",
   "name": "python",
   "nbconvert_exporter": "python",
   "pygments_lexer": "ipython3",
   "version": "3.11.5"
  }
 },
 "nbformat": 4,
 "nbformat_minor": 5
}
