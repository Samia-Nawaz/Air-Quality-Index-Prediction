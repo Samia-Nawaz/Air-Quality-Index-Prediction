{
 "cells": [
  {
   "cell_type": "code",
   "execution_count": null,
   "id": "cb8c577c",
   "metadata": {},
   "outputs": [],
   "source": [
    "import pandas as pd\n",
    "import numpy as np\n",
    "from sklearn.preprocessing import StandardScaler\n",
    "from statsmodels.tsa.arima.model import ARIMA\n",
    "from sklearn.model_selection import train_test_split\n",
    "import warnings\n",
    "warnings.filterwarnings(\"ignore\")\n",
    "\n",
    "# Define target pollutants and AQI\n",
    "pollutants = ['CO', 'NO2', 'SO2', 'O3', 'PM10', 'PM2.5']\n",
    "aqi_column = 'AQI'\n",
    "\n",
    "def impute_arima(series, order=(2,1,2)):\n",
    "    if series.isnull().sum() == 0:\n",
    "        return series\n",
    "    model = ARIMA(series.dropna(), order=order)\n",
    "    fitted = model.fit()\n",
    "    forecast = fitted.predict(start=series.index[0], end=series.index[-1])\n",
    "    series.loc[series.isnull()] = forecast[series.isnull()]\n",
    "    return series\n",
    "\n",
    "def preprocess_data(file_path):\n",
    "    df = pd.read_csv(file_path, parse_dates=['datetime'], index_col='datetime')\n",
    "    \n",
    "    for col in pollutants:\n",
    "        df[col] = impute_arima(df[col])\n",
    "    \n",
    "    df = df.dropna(subset=[aqi_column])\n",
    "    \n",
    "    scaler = StandardScaler()\n",
    "    df_scaled = pd.DataFrame(scaler.fit_transform(df[pollutants]), \n",
    "                             columns=pollutants, index=df.index)\n",
    "    df_scaled[aqi_column] = df[aqi_column].values  # Append AQI unscaled\n",
    "    \n",
    "    return df_scaled, scaler\n",
    "\n",
    "df_processed, scaler = preprocess_data('epa_data.csv')\n"
   ]
  }
 ],
 "metadata": {
  "kernelspec": {
   "display_name": "Python 3 (ipykernel)",
   "language": "python",
   "name": "python3"
  },
  "language_info": {
   "codemirror_mode": {
    "name": "ipython",
    "version": 3
   },
   "file_extension": ".py",
   "mimetype": "text/x-python",
   "name": "python",
   "nbconvert_exporter": "python",
   "pygments_lexer": "ipython3",
   "version": "3.11.5"
  }
 },
 "nbformat": 4,
 "nbformat_minor": 5
}
