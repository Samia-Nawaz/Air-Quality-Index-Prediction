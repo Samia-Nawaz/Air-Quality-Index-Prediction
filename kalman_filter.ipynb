{
 "cells": [
  {
   "cell_type": "code",
   "execution_count": null,
   "id": "bc6d8f1d",
   "metadata": {},
   "outputs": [],
   "source": [
    "import numpy as np\n",
    "\n",
    "class KalmanFilter1D:\n",
    "    def __init__(self, process_variance=1e-5, measurement_variance=1e-1):\n",
    "        self.A = 1\n",
    "        self.B = 0\n",
    "        self.H = 1\n",
    "        self.Q = process_variance\n",
    "        self.R = measurement_variance\n",
    "        self.x = 0\n",
    "        self.P = 1\n",
    "\n",
    "    def filter(self, z_values):\n",
    "        estimates = []\n",
    "        for z in z_values:\n",
    "            x_pred = self.A * self.x\n",
    "            P_pred = self.A * self.P * self.A + self.Q\n",
    "            K = P_pred * self.H / (self.H * P_pred * self.H + self.R)\n",
    "            self.x = x_pred + K * (z - self.H * x_pred)\n",
    "            self.P = (1 - K * self.H) * P_pred\n",
    "            estimates.append(self.x)\n",
    "        return np.array(estimates)\n",
    "\n",
    "def apply_kalman_filter(df, columns):\n",
    "    kf_df = df.copy()\n",
    "    for col in columns:\n",
    "        kf = KalmanFilter1D()\n",
    "        kf_df[col] = kf.filter(df[col].values)\n",
    "    return kf_df\n"
   ]
  }
 ],
 "metadata": {
  "kernelspec": {
   "display_name": "Python 3 (ipykernel)",
   "language": "python",
   "name": "python3"
  },
  "language_info": {
   "codemirror_mode": {
    "name": "ipython",
    "version": 3
   },
   "file_extension": ".py",
   "mimetype": "text/x-python",
   "name": "python",
   "nbconvert_exporter": "python",
   "pygments_lexer": "ipython3",
   "version": "3.11.5"
  }
 },
 "nbformat": 4,
 "nbformat_minor": 5
}
