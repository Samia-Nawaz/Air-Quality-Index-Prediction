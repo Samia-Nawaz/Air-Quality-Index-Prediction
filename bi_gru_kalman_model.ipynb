{
 "cells": [
  {
   "cell_type": "code",
   "execution_count": null,
   "id": "b66dd7d7",
   "metadata": {},
   "outputs": [],
   "source": [
    "import torch\n",
    "import torch.nn as nn\n",
    "from kalman_attention import KalmanAttention\n",
    "\n",
    "class KalmanBiGRUModel(nn.Module):\n",
    "    def __init__(self, input_dim, hidden_dim, num_layers=2, dropout=0.3):\n",
    "        super(KalmanBiGRUModel, self).__init__()\n",
    "        self.bigru = nn.GRU(input_dim, hidden_dim, num_layers=num_layers, \n",
    "                            dropout=dropout, bidirectional=True, batch_first=True)\n",
    "        self.attention = KalmanAttention(hidden_dim * 2)\n",
    "        self.regressor = nn.Linear(hidden_dim * 2, 1)\n",
    "\n",
    "    def forward(self, x):\n",
    "        gru_out, _ = self.bigru(x)\n",
    "        context_vector, att_weights = self.attention(gru_out)\n",
    "        output = self.regressor(context_vector)\n",
    "        return output.squeeze(-1), att_weights\n"
   ]
  }
 ],
 "metadata": {
  "kernelspec": {
   "display_name": "Python 3 (ipykernel)",
   "language": "python",
   "name": "python3"
  },
  "language_info": {
   "codemirror_mode": {
    "name": "ipython",
    "version": 3
   },
   "file_extension": ".py",
   "mimetype": "text/x-python",
   "name": "python",
   "nbconvert_exporter": "python",
   "pygments_lexer": "ipython3",
   "version": "3.11.5"
  }
 },
 "nbformat": 4,
 "nbformat_minor": 5
}
