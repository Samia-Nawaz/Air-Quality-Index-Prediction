{
 "cells": [
  {
   "cell_type": "code",
   "execution_count": null,
   "id": "94d831bf",
   "metadata": {},
   "outputs": [],
   "source": [
    "import torch\n",
    "import torch.nn as nn\n",
    "\n",
    "class ChiSquareLoss(nn.Module):\n",
    "    def __init__(self, lambda_reg=0.2):\n",
    "        super(ChiSquareLoss, self).__init__()\n",
    "        self.mse = nn.MSELoss()\n",
    "        self.lambda_reg = lambda_reg\n",
    "\n",
    "    def forward(self, preds, targets):\n",
    "        mse_loss = self.mse(preds, targets)\n",
    "        chi_sq_div = torch.sum(((preds - targets) ** 2) / (targets + 1e-6))\n",
    "        return mse_loss + self.lambda_reg * chi_sq_div\n"
   ]
  }
 ],
 "metadata": {
  "kernelspec": {
   "display_name": "Python 3 (ipykernel)",
   "language": "python",
   "name": "python3"
  },
  "language_info": {
   "codemirror_mode": {
    "name": "ipython",
    "version": 3
   },
   "file_extension": ".py",
   "mimetype": "text/x-python",
   "name": "python",
   "nbconvert_exporter": "python",
   "pygments_lexer": "ipython3",
   "version": "3.11.5"
  }
 },
 "nbformat": 4,
 "nbformat_minor": 5
}
